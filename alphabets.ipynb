{
 "cells": [
  {
   "cell_type": "code",
   "execution_count": 41,
   "metadata": {},
   "outputs": [
    {
     "name": "stdout",
     "output_type": "stream",
     "text": [
      "   *\n",
      "  * *\n",
      " *   *\n",
      "* * * * \n",
      "*     *\n",
      "*     *\n",
      "*     *\n"
     ]
    }
   ],
   "source": [
    "#Pattern for A\n",
    "j=3\n",
    "for i in range(7):\n",
    "    if i==0:\n",
    "        print(\" \"*3+\"*\")\n",
    "    elif i==3:\n",
    "        print(\"* \"*4)\n",
    "    elif i<3:\n",
    "        print(\" \"*(j-i)+\"*\"+\" \"*(2*i-1)+\"*\")\n",
    "    else:\n",
    "        print(\"*\",\" \"*3,\"*\")"
   ]
  },
  {
   "cell_type": "code",
   "execution_count": 3,
   "metadata": {},
   "outputs": [
    {
     "name": "stdout",
     "output_type": "stream",
     "text": [
      "* * * \n",
      "*     *\n",
      "*     *\n",
      "* * * \n",
      "*     *\n",
      "*     *\n",
      "* * * \n"
     ]
    }
   ],
   "source": [
    "#Pattern for B\n",
    "for i in range(7):\n",
    "    if i%3==0:\n",
    "        print(\"* \"*3)\n",
    "    else:\n",
    "        print(\"*\"+\" \"*5+\"*\")"
   ]
  },
  {
   "cell_type": "code",
   "execution_count": 11,
   "metadata": {},
   "outputs": [
    {
     "name": "stdout",
     "output_type": "stream",
     "text": [
      "  * * \n",
      "*     *\n",
      "*\n",
      "*\n",
      "*\n",
      "*     *\n",
      "  * * \n"
     ]
    }
   ],
   "source": [
    "#Pattern for C\n",
    "for i in range(7):\n",
    "    if i==0 or i==6:\n",
    "        print(\" \"*2+\"* \"*2)\n",
    "    elif i%4==1:\n",
    "        print(\"*\"+\" \"*5+\"*\")\n",
    "    else:\n",
    "        print(\"*\")"
   ]
  },
  {
   "cell_type": "code",
   "execution_count": 10,
   "metadata": {},
   "outputs": [
    {
     "name": "stdout",
     "output_type": "stream",
     "text": [
      "* * * \n",
      "*     *\n",
      "*     *\n",
      "*     *\n",
      "*     *\n",
      "*     *\n",
      "* * * \n"
     ]
    }
   ],
   "source": [
    "#Pattern for D\n",
    "for i in range(7):\n",
    "    if i==0 or i==6:\n",
    "        print(\"* \"*3)\n",
    "    else:\n",
    "        print(\"* \",\" \"*2,\"*\")"
   ]
  },
  {
   "cell_type": "code",
   "execution_count": 12,
   "metadata": {},
   "outputs": [
    {
     "name": "stdout",
     "output_type": "stream",
     "text": [
      "* * * * \n",
      "*\n",
      "*\n",
      "* * * * \n",
      "*\n",
      "*\n",
      "* * * * \n"
     ]
    }
   ],
   "source": [
    "#Pattern for E\n",
    "for i in range(7):\n",
    "    if i%3==0:\n",
    "        print(\"* \"*4)\n",
    "    else:\n",
    "        print(\"*\")"
   ]
  },
  {
   "cell_type": "code",
   "execution_count": 13,
   "metadata": {},
   "outputs": [
    {
     "name": "stdout",
     "output_type": "stream",
     "text": [
      "* * * * \n",
      "*\n",
      "*\n",
      "* * * * \n",
      "*\n",
      "*\n",
      "*\n"
     ]
    }
   ],
   "source": [
    "#Pattern for F\n",
    "for i in range(7):\n",
    "    if i%3==0 and i!=6:\n",
    "        print(\"* \"*4)\n",
    "    else:\n",
    "        print(\"*\")"
   ]
  },
  {
   "cell_type": "code",
   "execution_count": 26,
   "metadata": {},
   "outputs": [
    {
     "name": "stdout",
     "output_type": "stream",
     "text": [
      "* * * * \n",
      "*\n",
      "*\n",
      "*   * * \n",
      "*     *\n",
      "*     *\n",
      "* * * * \n"
     ]
    }
   ],
   "source": [
    "#Pattern for G\n",
    "for i in range(7):\n",
    "    if i==0 or i==6:\n",
    "        print(\"* \"*4)\n",
    "    elif i==3:\n",
    "        print(\"*\",\" \",\"* \"*2)\n",
    "    elif i<3:\n",
    "        print(\"*\")\n",
    "    else:\n",
    "        print(\"* \",\" \"*2,\"*\")"
   ]
  },
  {
   "cell_type": "code",
   "execution_count": 17,
   "metadata": {},
   "outputs": [
    {
     "name": "stdout",
     "output_type": "stream",
     "text": [
      "*     *\n",
      "*     *\n",
      "*     *\n",
      "* * * * \n",
      "*     *\n",
      "*     *\n",
      "*     *\n"
     ]
    }
   ],
   "source": [
    "#Pattern for H\n",
    "for i in range(7):\n",
    "    if i==3:\n",
    "        print(\"* \"*4)\n",
    "    else:\n",
    "        print(\"* \",\" \"*2,\"*\")"
   ]
  },
  {
   "cell_type": "code",
   "execution_count": 18,
   "metadata": {},
   "outputs": [
    {
     "name": "stdout",
     "output_type": "stream",
     "text": [
      "* * * * \n",
      "   *   \n",
      "   *   \n",
      "   *   \n",
      "   *   \n",
      "   *   \n",
      "* * * * \n"
     ]
    }
   ],
   "source": [
    "#Pattern for I\n",
    "for i in range(7):\n",
    "    if i==0 or i==6:\n",
    "        print(\"* \"*4)\n",
    "    else:\n",
    "        print(\" \"*2,\"*\",\" \"*2)"
   ]
  },
  {
   "cell_type": "code",
   "execution_count": 23,
   "metadata": {},
   "outputs": [
    {
     "name": "stdout",
     "output_type": "stream",
     "text": [
      "* * * * \n",
      "      *\n",
      "      *\n",
      "      *\n",
      "      *\n",
      "*     *\n",
      "  * * * \n"
     ]
    }
   ],
   "source": [
    "#Pattern for J\n",
    "for i in range(7):\n",
    "    if i==0:\n",
    "        print(\"* \"*4)\n",
    "    elif i==6:\n",
    "        print(\" \",\"* \"*3)\n",
    "    elif i==5:\n",
    "        print(\"* \",\" \"*2,\"*\")\n",
    "    else:\n",
    "        print(\" \"*5,\"*\")"
   ]
  },
  {
   "cell_type": "code",
   "execution_count": 96,
   "metadata": {},
   "outputs": [
    {
     "name": "stdout",
     "output_type": "stream",
     "text": [
      "*    *\n",
      "*   *\n",
      "*  *\n",
      "* *\n",
      "*  *\n",
      "*   *\n",
      "*    *\n"
     ]
    }
   ],
   "source": [
    "#Pattern for K\n",
    "j=3\n",
    "l=1\n",
    "for i in range(7):\n",
    "    if i<4:\n",
    "        print(\"*\",\" \"*j+\"*\")\n",
    "        j-=1\n",
    "    else:\n",
    "        print(\"*\",\" \"*l+\"*\")\n",
    "        l+=1"
   ]
  },
  {
   "cell_type": "code",
   "execution_count": 57,
   "metadata": {},
   "outputs": [
    {
     "name": "stdout",
     "output_type": "stream",
     "text": [
      "*\n",
      "*\n",
      "*\n",
      "*\n",
      "*\n",
      "*\n",
      "* * * * \n"
     ]
    }
   ],
   "source": [
    "#Pattern for L\n",
    "for i in range(7):\n",
    "    if i==6:\n",
    "        print(\"* \"*4)\n",
    "    else:\n",
    "        print(\"*\")"
   ]
  },
  {
   "cell_type": "code",
   "execution_count": 74,
   "metadata": {},
   "outputs": [
    {
     "name": "stdout",
     "output_type": "stream",
     "text": [
      "*     *\n",
      "* * * * \n",
      "*  *  *\n",
      "*     *\n",
      "*     *\n",
      "*     *\n"
     ]
    }
   ],
   "source": [
    "#Pattern for M\n",
    "for i in range(6):\n",
    "    if i==1:\n",
    "        print(\"* \"*4)\n",
    "    elif i==2:\n",
    "        print(\"*\",\" \"+\"*\",\" \"+\"*\")\n",
    "    else:\n",
    "        print(\"*\",\" \"*3,\"*\")"
   ]
  },
  {
   "cell_type": "code",
   "execution_count": 75,
   "metadata": {},
   "outputs": [
    {
     "name": "stdout",
     "output_type": "stream",
     "text": [
      "*     *\n",
      "**    *\n",
      "* *   *\n",
      "*  *  *\n",
      "*   * *\n",
      "*    **\n",
      "*     *\n"
     ]
    }
   ],
   "source": [
    "#Pattern for N\n",
    "j=6\n",
    "for i in range(7):\n",
    "    if i==0 or i==6:\n",
    "        print(\"*\",\" \"*3,\"*\")\n",
    "    else:\n",
    "        print(\"*\"+\" \"*(i-1)+\"*\"+\" \"*(j-i-1)+\"*\")"
   ]
  },
  {
   "cell_type": "code",
   "execution_count": 80,
   "metadata": {},
   "outputs": [
    {
     "name": "stdout",
     "output_type": "stream",
     "text": [
      "  * * \n",
      "*     *\n",
      "*     *\n",
      "*     *\n",
      "*     *\n",
      "*     *\n",
      "  * * \n"
     ]
    }
   ],
   "source": [
    "#Pattern for O\n",
    "for i in range(7):\n",
    "    if i==0 or i==6:\n",
    "        print(\" \",\"* \"*2)\n",
    "    else:\n",
    "        print(\"*\",\" \"*3,\"*\")"
   ]
  },
  {
   "cell_type": "code",
   "execution_count": 97,
   "metadata": {},
   "outputs": [
    {
     "name": "stdout",
     "output_type": "stream",
     "text": [
      "* * * * \n",
      "*     *\n",
      "*     *\n",
      "* * * * \n",
      "*\n",
      "*\n",
      "*\n"
     ]
    }
   ],
   "source": [
    "#Pattern for P\n",
    "for i in range(7):\n",
    "    if i%3==0 and i!=6:\n",
    "        print(\"* \"*4)\n",
    "    elif i<3:\n",
    "        print(\"* \",\" \"*2,\"*\")\n",
    "    else:\n",
    "        print(\"*\")"
   ]
  },
  {
   "cell_type": "code",
   "execution_count": 156,
   "metadata": {},
   "outputs": [
    {
     "name": "stdout",
     "output_type": "stream",
     "text": [
      "  * * \n",
      "*     *\n",
      "*     *\n",
      "*     *\n",
      "*  *  *\n",
      "  * * \n",
      "     *\n"
     ]
    }
   ],
   "source": [
    "#Pattern for Q\n",
    "for i in range(7):\n",
    "    if i==0 or i==5:\n",
    "        print(\" \",\"* \"*2)\n",
    "    elif i==4:\n",
    "        print(\"* \",\"*\",\" *\")\n",
    "    elif i==6:\n",
    "        print(\" \"*4,\"*\")\n",
    "    else:\n",
    "        print(\"*\",\" \"*3,\"*\")\n",
    "\n",
    "    "
   ]
  },
  {
   "cell_type": "code",
   "execution_count": 83,
   "metadata": {},
   "outputs": [
    {
     "name": "stdout",
     "output_type": "stream",
     "text": [
      "* * * * \n",
      "*     *\n",
      "*     *\n",
      "* * * * \n",
      "*  *\n",
      "*   *\n",
      "*    *\n"
     ]
    }
   ],
   "source": [
    "l=1\n",
    "for i in range(7):\n",
    "    if i%3==0 and i!=6:\n",
    "        print(\"* \"*4)\n",
    "    elif i<3:\n",
    "        print(\"* \",\" \"*2,\"*\")\n",
    "    else: \n",
    "        print(\"*\",\" \"*l+\"*\")\n",
    "        l+=1"
   ]
  },
  {
   "cell_type": "code",
   "execution_count": 98,
   "metadata": {},
   "outputs": [
    {
     "name": "stdout",
     "output_type": "stream",
     "text": [
      "* * * * \n",
      "* \n",
      "* \n",
      "* * * * \n",
      "      *\n",
      "      *\n",
      "* * * * \n"
     ]
    }
   ],
   "source": [
    "#Pattern for S\n",
    "for i in range(7):\n",
    "    if i%3==0:\n",
    "        print(\"* \"*4)\n",
    "    elif i<3:\n",
    "        print(\"* \")\n",
    "    else:\n",
    "        print(\" \"*5,\"*\")"
   ]
  },
  {
   "cell_type": "code",
   "execution_count": 100,
   "metadata": {},
   "outputs": [
    {
     "name": "stdout",
     "output_type": "stream",
     "text": [
      "* * * * \n",
      "   *\n",
      "   *\n",
      "   *\n",
      "   *\n",
      "   *\n",
      "   *\n"
     ]
    }
   ],
   "source": [
    "#Pattern for T\n",
    "for i in range(7):\n",
    "    if i==0:\n",
    "        print(\"* \"*4)\n",
    "    else:\n",
    "        print(\" \"*2,\"*\")"
   ]
  },
  {
   "cell_type": "code",
   "execution_count": 101,
   "metadata": {},
   "outputs": [
    {
     "name": "stdout",
     "output_type": "stream",
     "text": [
      "*     *\n",
      "*     *\n",
      "*     *\n",
      "*     *\n",
      "*     *\n",
      "*     *\n",
      "  * * \n"
     ]
    }
   ],
   "source": [
    "#Pattern for U\n",
    "for i in range(7):\n",
    "    if i==6:\n",
    "        print(\" \",\"* \"*2)\n",
    "    else:\n",
    "        print(\"*\",\" \"*3,\"*\")\n",
    "        "
   ]
  },
  {
   "cell_type": "code",
   "execution_count": 135,
   "metadata": {},
   "outputs": [
    {
     "name": "stdout",
     "output_type": "stream",
     "text": [
      "*     *\n",
      "*     *\n",
      "*     *\n",
      "*     *\n",
      "*     *\n",
      " *   *   \n",
      "   *\n"
     ]
    }
   ],
   "source": [
    "#Pattern for V\n",
    "for i in range(7):\n",
    "    if i==5:\n",
    "        print(\" \"+\"*   \"*2)\n",
    "    elif i==6:\n",
    "        print(\" \"*2,\"*\")\n",
    "    else:\n",
    "        print(\"*\",\" \"*3,\"*\")\n",
    "    \n"
   ]
  },
  {
   "cell_type": "code",
   "execution_count": 110,
   "metadata": {},
   "outputs": [
    {
     "name": "stdout",
     "output_type": "stream",
     "text": [
      "*     *\n",
      "*     *\n",
      "*     *\n",
      "*  *  *\n",
      "* * * * \n",
      "*     *\n"
     ]
    }
   ],
   "source": [
    "#Pattern for W\n",
    "for i in range(6):\n",
    "    if i==4:\n",
    "        print(\"* \"*4)\n",
    "    elif i==3:\n",
    "        print(\"*\",\" \"+\"*\",\" \"+\"*\")\n",
    "    else:\n",
    "        print(\"*\",\" \"*3,\"*\")"
   ]
  },
  {
   "cell_type": "code",
   "execution_count": 115,
   "metadata": {},
   "outputs": [
    {
     "name": "stdout",
     "output_type": "stream",
     "text": [
      "*     *\n",
      " *   *\n",
      "  * *\n",
      "   *\n",
      "  * *\n",
      " *   *\n",
      "*     *\n"
     ]
    }
   ],
   "source": [
    "#Pattern for X\n",
    "for i in range(7):\n",
    "    if i==0 or i==6:\n",
    "        print(\"*\",\" \"*3,\"*\")\n",
    "    elif i==3:\n",
    "        print(\" \"*2,\"*\")\n",
    "    elif i==1 or i==5:\n",
    "        print(\" \"+\"*\",\" \",\"*\")\n",
    "    else:\n",
    "        print(\"  \"+\"*\"+\" \"+\"*\")\n",
    "\n",
    "\n"
   ]
  },
  {
   "cell_type": "code",
   "execution_count": 128,
   "metadata": {},
   "outputs": [
    {
     "name": "stdout",
     "output_type": "stream",
     "text": [
      "*     *\n",
      " *   *\n",
      "  * *\n",
      "   *\n",
      "   *\n",
      "   *\n",
      "   *\n"
     ]
    }
   ],
   "source": [
    "#Pattern for Y\n",
    "j=0\n",
    "for i in range(7):\n",
    "    if i<3:\n",
    "        print(\" \"*j+\"*\"+\" \"*(4-2*i),\"*\")\n",
    "        j+=1\n",
    "    else:\n",
    "        print(\" \"*2,\"*\")\n",
    "        \n"
   ]
  },
  {
   "cell_type": "code",
   "execution_count": 131,
   "metadata": {},
   "outputs": [
    {
     "name": "stdout",
     "output_type": "stream",
     "text": [
      "* * * * \n",
      "     *\n",
      "    *\n",
      "   *\n",
      "  *\n",
      " *\n",
      "* * * * \n"
     ]
    }
   ],
   "source": [
    "#pattern for Z\n",
    "for i in range(7):\n",
    "    if i==0 or i==6:\n",
    "        print(\"* \"*4)\n",
    "    else:\n",
    "        print(\" \"*(6-i)+\"*\")"
   ]
  },
  {
   "cell_type": "code",
   "execution_count": null,
   "metadata": {},
   "outputs": [],
   "source": []
  }
 ],
 "metadata": {
  "kernelspec": {
   "display_name": "Python 3 (ipykernel)",
   "language": "python",
   "name": "python3"
  },
  "language_info": {
   "codemirror_mode": {
    "name": "ipython",
    "version": 3
   },
   "file_extension": ".py",
   "mimetype": "text/x-python",
   "name": "python",
   "nbconvert_exporter": "python",
   "pygments_lexer": "ipython3",
   "version": "3.11.3"
  }
 },
 "nbformat": 4,
 "nbformat_minor": 2
}
